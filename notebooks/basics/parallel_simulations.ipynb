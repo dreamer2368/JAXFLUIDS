{
 "cells": [
  {
   "cell_type": "markdown",
   "id": "197d5ea5",
   "metadata": {},
   "source": [
    "## JAX-Fluids Tutorial: Parallel Simulations\n",
    "\n",
    "JAX-Fluids supports parallel simulations on GPUs and TPUs. A homogenous domain decomposition strategy is used to partition the computational domain and distribute it over the specified XLA devices. The domain decomposition requires specification of the number of devices in the respective axis directions.\n",
    "\n",
    "For example, $(S_x, S_y, S_z) = (2, 2, 2)$ corresponds to a simulation on 8 XLA devices, where the domain is split into 2 in each spatial axis. $(S_x, S_y, S_z) = (8, 1, 1)$ would also use 8 XLA devices, but in this case the computational domain would only by split in x-direction. By default, $(S_x, S_y, S_z) = (1, 1, 1)$ is used. Only active axes can be split.\n",
    "\n",
    "Parallel simulations require the \"decomposition\" key word within the \"domain\" section in the case setup file. To specify the domain decomposition. For example the \"domain\" settings for a 3D simulation, where we split the domain into $2 \\times 2 \\times 2$ blocks would look as follows."
   ]
  },
  {
   "cell_type": "code",
   "execution_count": null,
   "id": "a656ff33",
   "metadata": {},
   "outputs": [],
   "source": [
    "{\n",
    "    \"domain\": {\n",
    "        \"x\": {\n",
    "            \"cells\": 256,\n",
    "            \"range\": [0.0, 1.0]\n",
    "        },\n",
    "        \"y\": {\n",
    "            \"cells\": 256,\n",
    "            \"range\": [0.0, 1.0]\n",
    "        },\n",
    "        \"z\": {\n",
    "            \"cells\": 256,\n",
    "            \"range\": [0.0, 1.0]\n",
    "        },\n",
    "        \"decomposition\": {\n",
    "            \"split_x\": 2,\n",
    "            \"split_y\": 2,\n",
    "            \"split_z\": 2\n",
    "        }\n",
    "    }\n",
    "}"
   ]
  },
  {
   "cell_type": "markdown",
   "id": "2d66df07",
   "metadata": {},
   "source": [
    "In multi-host settings, the JAX distributed system needs to be initialized before a JAX-Fluids simulation can start. This is done by using the jax.distributed.initialize() command, following https://docs.jax.dev/en/latest/_autosummary/jax.distributed.initialize.html"
   ]
  }
 ],
 "metadata": {
  "kernelspec": {
   "display_name": "venv_jaxfluids_github",
   "language": "python",
   "name": "python3"
  },
  "language_info": {
   "codemirror_mode": {
    "name": "ipython",
    "version": 3
   },
   "file_extension": ".py",
   "mimetype": "text/x-python",
   "name": "python",
   "nbconvert_exporter": "python",
   "pygments_lexer": "ipython3",
   "version": "3.11.5"
  }
 },
 "nbformat": 4,
 "nbformat_minor": 5
}
