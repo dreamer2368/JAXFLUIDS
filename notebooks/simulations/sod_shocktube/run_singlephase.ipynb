{
 "cells": [
  {
   "cell_type": "markdown",
   "metadata": {},
   "source": [
    "# Single-phase sod shock tube\n",
    "This case simulates the classical one-dimensional single-phase sod shock tube."
   ]
  },
  {
   "cell_type": "markdown",
   "metadata": {},
   "source": [
    "# Imports"
   ]
  },
  {
   "cell_type": "code",
   "execution_count": 1,
   "metadata": {},
   "outputs": [],
   "source": [
    "import numpy as np\n",
    "from jaxfluids import InputManager, InitializationManager, SimulationManager\n",
    "from jaxfluids_postprocess import load_data, create_1D_animation, create_1D_figure\n",
    "import os\n",
    "os.environ[\"CUDA_VISIBLE_DEVICES\"] = \"0\""
   ]
  },
  {
   "cell_type": "markdown",
   "metadata": {},
   "source": [
    "# Run simulation"
   ]
  },
  {
   "cell_type": "code",
   "execution_count": null,
   "metadata": {},
   "outputs": [],
   "source": [
    "input_manager = InputManager(\"inputfiles/case_setup_singlephase.json\",\n",
    "                             \"../numerical_setup_files/numerical_setup_singlephase.json\")\n",
    "initialization_manager  = InitializationManager(input_manager)\n",
    "sim_manager  = SimulationManager(input_manager)\n",
    "jxf_buffers = initialization_manager.initialization()\n",
    "sim_manager.simulate(jxf_buffers)"
   ]
  },
  {
   "cell_type": "markdown",
   "metadata": {},
   "source": []
  },
  {
   "cell_type": "markdown",
   "metadata": {},
   "source": [
    "# Load and Visualization"
   ]
  },
  {
   "cell_type": "code",
   "execution_count": null,
   "metadata": {},
   "outputs": [],
   "source": [
    "path = sim_manager.output_writer.save_path_case\n",
    "quantities = [\"density\", \"pressure\", \"velocity\"]\n",
    "cell_centers, cell_sizes, times, data_dict = load_data(path, quantities, step=1)\n",
    "\n",
    "density = data_dict[\"density\"]\n",
    "pressure = data_dict[\"pressure\"]\n",
    "velocity = data_dict[\"velocity\"][:,0]\n",
    "\n",
    "plot_dict = {\n",
    "    \"density\": density,\n",
    "    \"velocity\": velocity,\n",
    "    \"pressure\": pressure,\n",
    "}\n",
    "\n",
    "nrows_ncols = (1,3)\n",
    "create_1D_figure(plot_dict, cell_centers, nrows_ncols,\n",
    "                 axis=\"x\", axis_values=(0,0), dpi=300, fig_args={\"figsize\": (10,4)})\n",
    "\n",
    "save_path = os.path.join(path,\"images\")\n",
    "os.makedirs(save_path, exist_ok=True)\n",
    "create_1D_animation(plot_dict, cell_centers, times, nrows_ncols,\n",
    "                    save_png=save_path, dpi=300, fig_args={\"figsize\": (10,4)})"
   ]
  }
 ],
 "metadata": {
  "kernelspec": {
   "display_name": "venv_test",
   "language": "python",
   "name": "python3"
  },
  "language_info": {
   "codemirror_mode": {
    "name": "ipython",
    "version": 3
   },
   "file_extension": ".py",
   "mimetype": "text/x-python",
   "name": "python",
   "nbconvert_exporter": "python",
   "pygments_lexer": "ipython3",
   "version": "3.11.9"
  }
 },
 "nbformat": 4,
 "nbformat_minor": 2
}
