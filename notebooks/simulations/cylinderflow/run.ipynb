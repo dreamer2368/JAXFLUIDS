{
 "cells": [
  {
   "cell_type": "markdown",
   "metadata": {},
   "source": [
    "# Cylinder flow at low Reynolds number\n",
    "This case simulates a two-dimensional viscous cylinder flow at Re $=$ 200. The solid body is modeled using an immersed boundary level-set method."
   ]
  },
  {
   "cell_type": "markdown",
   "metadata": {},
   "source": [
    "# Imports"
   ]
  },
  {
   "cell_type": "code",
   "execution_count": null,
   "metadata": {},
   "outputs": [],
   "source": [
    "import os\n",
    "os.environ[\"CUDA_VISIBLE_DEVICES\"] = \"0\"\n",
    "import numpy as np\n",
    "import matplotlib.pyplot as plt\n",
    "from jaxfluids import InputManager, InitializationManager, SimulationManager\n",
    "from jaxfluids_postprocess import load_data, create_2D_animation"
   ]
  },
  {
   "cell_type": "markdown",
   "metadata": {},
   "source": [
    "# Simulation"
   ]
  },
  {
   "cell_type": "code",
   "execution_count": null,
   "metadata": {},
   "outputs": [],
   "source": [
    "input_manager = InputManager(\"inputfiles/case_setup_Re200.json\",\n",
    "                             \"../numerical_setup_files/numerical_setup_solids.json\")\n",
    "initialization_manager  = InitializationManager(input_manager)\n",
    "sim_manager = SimulationManager(input_manager)\n",
    "jxf_buffers = initialization_manager.initialization()\n",
    "sim_manager.simulate(jxf_buffers)"
   ]
  },
  {
   "cell_type": "markdown",
   "metadata": {},
   "source": [
    "# Visualization"
   ]
  },
  {
   "cell_type": "code",
   "execution_count": null,
   "metadata": {},
   "outputs": [],
   "source": [
    "path = sim_manager.output_writer.save_path_case\n",
    "quantities = [\"pressure\", \"velocity\", \"vorticity\", \"volume_fraction\"]\n",
    "cell_centers, cell_sizes, times, data_dict = load_data(path, quantities, step=10)\n",
    "\n",
    "volume_fraction = data_dict[\"volume_fraction\"]\n",
    "solid_mask = np.where(volume_fraction == 0.0, 1, 0) \n",
    "vorticity = data_dict[\"vorticity\"][:,0]\n",
    "velocityY = data_dict[\"velocity\"][:,1]\n",
    "\n",
    "vorticity = np.ma.masked_where(solid_mask, vorticity)\n",
    "velocityY = np.ma.masked_where(solid_mask, velocityY)\n",
    "\n",
    "plot_dict = {\n",
    "    \"vorticity\": vorticity,\n",
    "    \"velocityY\": velocityY,\n",
    "}\n",
    "\n",
    "minmax_list = [\n",
    "    [np.min(vorticity),-np.min(vorticity)],\n",
    "    [np.min(velocityY),-np.min(velocityY)]\n",
    "]\n",
    "\n",
    "nrows_ncols = (1,2)\n",
    "cmap = plt.get_cmap(\"seismic\")\n",
    "cmap.set_bad(\"white\")\n",
    "\n",
    "save_path = os.path.join(path,\"images\")\n",
    "os.makedirs(save_path, exist_ok=True)\n",
    "create_2D_animation(plot_dict, cell_centers, times, nrows_ncols=nrows_ncols,\n",
    "                    save_png=save_path, fig_args={\"figsize\": (20,10)}, cmap=cmap,\n",
    "                    dpi=300, minmax_list=minmax_list)\n"
   ]
  }
 ],
 "metadata": {
  "language_info": {
   "name": "python"
  }
 },
 "nbformat": 4,
 "nbformat_minor": 2
}
