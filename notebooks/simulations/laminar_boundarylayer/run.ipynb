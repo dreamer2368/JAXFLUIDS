{
 "cells": [
  {
   "cell_type": "markdown",
   "metadata": {},
   "source": [
    "# Laminar supersonic boundary layer\n",
    "This case simulates a two-dimensional laminar supersonic boundary layer. At the inlet, a blasius similarity solution is imposed."
   ]
  },
  {
   "cell_type": "markdown",
   "metadata": {},
   "source": [
    "# Imports"
   ]
  },
  {
   "cell_type": "code",
   "execution_count": null,
   "metadata": {},
   "outputs": [],
   "source": [
    "from jaxfluids import InputManager, InitializationManager, SimulationManager\n",
    "from jaxfluids_postprocess import load_data, create_2D_animation\n",
    "import os\n",
    "os.environ[\"CUDA_VISIBLE_DEVICES\"] = \"0\""
   ]
  },
  {
   "cell_type": "markdown",
   "metadata": {},
   "source": [
    "# Simulation"
   ]
  },
  {
   "cell_type": "code",
   "execution_count": null,
   "metadata": {},
   "outputs": [],
   "source": [
    "input_manager = InputManager(\"case_setup.json\",\n",
    "                             \"../numerical_setup_files/numerical_setup_singlephase.json\")\n",
    "initialization_manager = InitializationManager(input_manager)\n",
    "sim_manager = SimulationManager(input_manager)\n",
    "\n",
    "jxf_buffers = initialization_manager.initialization()\n",
    "sim_manager.simulate(jxf_buffers)"
   ]
  },
  {
   "cell_type": "markdown",
   "metadata": {},
   "source": [
    "# Visualization"
   ]
  },
  {
   "cell_type": "code",
   "execution_count": null,
   "metadata": {},
   "outputs": [],
   "source": [
    "path = sim_manager.output_writer.save_path_case\n",
    "quantities = [\"density\", \"velocity\", \"pressure\", \"temperature\"]\n",
    "cell_centers, cell_sizes, times, data_dict = load_data(path, quantities, step=1)\n",
    "\n",
    "plot_dict = {\n",
    "    \"temperature\": data_dict[\"temperature\"],\n",
    "    \"velocityX\": data_dict[\"velocity\"][:,0],\n",
    "    \"velocityY\": data_dict[\"velocity\"][:,1],\n",
    "    \"pressure\": data_dict[\"pressure\"]\n",
    "    }\n",
    "\n",
    "os.makedirs(os.path.join(path,\"images\"), exist_ok=True)\n",
    "create_2D_animation(plot_dict, cell_centers, times, nrows_ncols=(2,2),\n",
    "                    plane=\"xy\", plane_value=0.0, cmap=\"seismic\", dpi=200, colorbars=\"vertical\",\n",
    "                    save_png=os.path.join(path,\"images\"), fig_args={\"figsize\": (10,10)})"
   ]
  }
 ],
 "metadata": {
  "kernelspec": {
   "display_name": "base",
   "language": "python",
   "name": "python3"
  },
  "language_info": {
   "codemirror_mode": {
    "name": "ipython",
    "version": 3
   },
   "file_extension": ".py",
   "mimetype": "text/x-python",
   "name": "python",
   "nbconvert_exporter": "python",
   "pygments_lexer": "ipython3",
   "version": "3.11.5"
  }
 },
 "nbformat": 4,
 "nbformat_minor": 2
}
