{
 "cells": [
  {
   "cell_type": "markdown",
   "metadata": {},
   "source": [
    "# Air-water drop shock interaction\n",
    "This case simulates a two-dimensional water droplet in air that interacts with a shock using the level-set method."
   ]
  },
  {
   "cell_type": "markdown",
   "metadata": {},
   "source": [
    "# Imports"
   ]
  },
  {
   "cell_type": "code",
   "execution_count": 1,
   "metadata": {},
   "outputs": [],
   "source": [
    "import numpy as np\n",
    "from jaxfluids import InputManager, InitializationManager, SimulationManager\n",
    "from jaxfluids_postprocess import load_data, create_2D_animation, create_2D_figure\n",
    "import os\n",
    "os.environ[\"CUDA_VISIBLE_DEVICES\"] = \"0\""
   ]
  },
  {
   "cell_type": "markdown",
   "metadata": {},
   "source": [
    "# Run simulation"
   ]
  },
  {
   "cell_type": "code",
   "execution_count": null,
   "metadata": {},
   "outputs": [],
   "source": [
    "case_setup_file = \"inputfiles/case_setup_levelset.json\"\n",
    "numerical_setup_file = \"../numerical_setup_files/numerical_setup_levelset.json\"\n",
    "input_manager = InputManager(case_setup_file, numerical_setup_file)\n",
    "initialization_manager  = InitializationManager(input_manager)\n",
    "sim_manager = SimulationManager(input_manager)\n",
    "jxf_buffers = initialization_manager.initialization()\n",
    "sim_manager.simulate(jxf_buffers)"
   ]
  },
  {
   "cell_type": "markdown",
   "metadata": {},
   "source": [
    "# Load and Visualization"
   ]
  },
  {
   "cell_type": "code",
   "execution_count": null,
   "metadata": {},
   "outputs": [],
   "source": [
    "path = sim_manager.output_writer.save_path_case\n",
    "quantities = [\"schlieren\", \"real_pressure\", \"real_density\"]\n",
    "cell_centers, cell_sizes, times, data_dict = load_data(path, quantities, step=1)\n",
    "\n",
    "schlieren = data_dict[\"schlieren\"]\n",
    "schlieren /= np.max(schlieren)\n",
    "schlieren = np.clip(schlieren, 1e-3, 1e0)\n",
    "\n",
    "plot_dict = {\n",
    "    \"schlieren\": schlieren,\n",
    "    \"pressure\": data_dict[\"real_pressure\"],\n",
    "    \"density\": data_dict[\"real_density\"],\n",
    "}\n",
    "\n",
    "nrows_ncols = (3,1)\n",
    "\n",
    "create_2D_figure(plot_dict, times, nrows_ncols, cell_centers=cell_centers, plane=\"xy\",\n",
    "                 plane_value=0.0, dpi=300, fig_args={\"figsize\": (20,10)})\n",
    "\n",
    "save_path = os.path.join(path,\"images\")\n",
    "os.makedirs(save_path, exist_ok=True)\n",
    "create_2D_animation(plot_dict, cell_centers, times, nrows_ncols=nrows_ncols,\n",
    "                    save_png=save_path, fig_args={\"figsize\": (20,10)}, dpi=300)\n",
    "\n"
   ]
  }
 ],
 "metadata": {
  "kernelspec": {
   "display_name": "jxf_github",
   "language": "python",
   "name": "python3"
  },
  "language_info": {
   "codemirror_mode": {
    "name": "ipython",
    "version": 3
   },
   "file_extension": ".py",
   "mimetype": "text/x-python",
   "name": "python",
   "nbconvert_exporter": "python",
   "pygments_lexer": "ipython3",
   "version": "3.12.9"
  }
 },
 "nbformat": 4,
 "nbformat_minor": 2
}
